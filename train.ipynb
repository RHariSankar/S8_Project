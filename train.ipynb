{
  "nbformat": 4,
  "nbformat_minor": 0,
  "metadata": {
    "colab": {
      "name": "train.ipynb",
      "provenance": [],
      "collapsed_sections": []
    },
    "kernelspec": {
      "name": "python3",
      "display_name": "Python 3"
    },
    "accelerator": "GPU"
  },
  "cells": [
    {
      "cell_type": "code",
      "metadata": {
        "id": "BJo-tKbevq7o",
        "colab_type": "code",
        "outputId": "e55f4f8f-e958-488c-8a85-b8d9b3dc9ed4",
        "colab": {
          "base_uri": "https://localhost:8080/",
          "height": 359
        }
      },
      "source": [
        "!pip install tensorflow-gpu==1.13.1"
      ],
      "execution_count": 0,
      "outputs": [
        {
          "output_type": "stream",
          "text": [
            "Requirement already satisfied: tensorflow-gpu==1.13.1 in /usr/local/lib/python3.6/dist-packages (1.13.1)\n",
            "Requirement already satisfied: protobuf>=3.6.1 in /usr/local/lib/python3.6/dist-packages (from tensorflow-gpu==1.13.1) (3.10.0)\n",
            "Requirement already satisfied: grpcio>=1.8.6 in /usr/local/lib/python3.6/dist-packages (from tensorflow-gpu==1.13.1) (1.28.1)\n",
            "Requirement already satisfied: astor>=0.6.0 in /usr/local/lib/python3.6/dist-packages (from tensorflow-gpu==1.13.1) (0.8.1)\n",
            "Requirement already satisfied: tensorflow-estimator<1.14.0rc0,>=1.13.0 in /usr/local/lib/python3.6/dist-packages (from tensorflow-gpu==1.13.1) (1.13.0)\n",
            "Requirement already satisfied: numpy>=1.13.3 in /usr/local/lib/python3.6/dist-packages (from tensorflow-gpu==1.13.1) (1.18.4)\n",
            "Requirement already satisfied: termcolor>=1.1.0 in /usr/local/lib/python3.6/dist-packages (from tensorflow-gpu==1.13.1) (1.1.0)\n",
            "Requirement already satisfied: keras-preprocessing>=1.0.5 in /usr/local/lib/python3.6/dist-packages (from tensorflow-gpu==1.13.1) (1.1.0)\n",
            "Requirement already satisfied: keras-applications>=1.0.6 in /usr/local/lib/python3.6/dist-packages (from tensorflow-gpu==1.13.1) (1.0.8)\n",
            "Requirement already satisfied: six>=1.10.0 in /usr/local/lib/python3.6/dist-packages (from tensorflow-gpu==1.13.1) (1.12.0)\n",
            "Requirement already satisfied: wheel>=0.26 in /usr/local/lib/python3.6/dist-packages (from tensorflow-gpu==1.13.1) (0.34.2)\n",
            "Requirement already satisfied: tensorboard<1.14.0,>=1.13.0 in /usr/local/lib/python3.6/dist-packages (from tensorflow-gpu==1.13.1) (1.13.1)\n",
            "Requirement already satisfied: gast>=0.2.0 in /usr/local/lib/python3.6/dist-packages (from tensorflow-gpu==1.13.1) (0.3.3)\n",
            "Requirement already satisfied: absl-py>=0.1.6 in /usr/local/lib/python3.6/dist-packages (from tensorflow-gpu==1.13.1) (0.9.0)\n",
            "Requirement already satisfied: setuptools in /usr/local/lib/python3.6/dist-packages (from protobuf>=3.6.1->tensorflow-gpu==1.13.1) (46.3.0)\n",
            "Requirement already satisfied: mock>=2.0.0 in /usr/local/lib/python3.6/dist-packages (from tensorflow-estimator<1.14.0rc0,>=1.13.0->tensorflow-gpu==1.13.1) (4.0.2)\n",
            "Requirement already satisfied: h5py in /usr/local/lib/python3.6/dist-packages (from keras-applications>=1.0.6->tensorflow-gpu==1.13.1) (2.10.0)\n",
            "Requirement already satisfied: markdown>=2.6.8 in /usr/local/lib/python3.6/dist-packages (from tensorboard<1.14.0,>=1.13.0->tensorflow-gpu==1.13.1) (3.2.1)\n",
            "Requirement already satisfied: werkzeug>=0.11.15 in /usr/local/lib/python3.6/dist-packages (from tensorboard<1.14.0,>=1.13.0->tensorflow-gpu==1.13.1) (1.0.1)\n"
          ],
          "name": "stdout"
        }
      ]
    },
    {
      "cell_type": "code",
      "metadata": {
        "id": "7w6MdhLPvvjS",
        "colab_type": "code",
        "outputId": "8d937f16-e83f-44d3-87c6-a9157c0f506b",
        "colab": {
          "base_uri": "https://localhost:8080/",
          "height": 215
        }
      },
      "source": [
        "!pip install imageai --upgrade"
      ],
      "execution_count": 0,
      "outputs": [
        {
          "output_type": "stream",
          "text": [
            "Requirement already up-to-date: imageai in /usr/local/lib/python3.6/dist-packages (2.1.5)\n",
            "Requirement already satisfied, skipping upgrade: h5py in /usr/local/lib/python3.6/dist-packages (from imageai) (2.10.0)\n",
            "Requirement already satisfied, skipping upgrade: pillow in /usr/local/lib/python3.6/dist-packages (from imageai) (7.0.0)\n",
            "Requirement already satisfied, skipping upgrade: matplotlib in /usr/local/lib/python3.6/dist-packages (from imageai) (3.2.1)\n",
            "Requirement already satisfied, skipping upgrade: scipy in /usr/local/lib/python3.6/dist-packages (from imageai) (1.4.1)\n",
            "Requirement already satisfied, skipping upgrade: numpy in /usr/local/lib/python3.6/dist-packages (from imageai) (1.18.4)\n",
            "Requirement already satisfied, skipping upgrade: six in /usr/local/lib/python3.6/dist-packages (from h5py->imageai) (1.12.0)\n",
            "Requirement already satisfied, skipping upgrade: pyparsing!=2.0.4,!=2.1.2,!=2.1.6,>=2.0.1 in /usr/local/lib/python3.6/dist-packages (from matplotlib->imageai) (2.4.7)\n",
            "Requirement already satisfied, skipping upgrade: kiwisolver>=1.0.1 in /usr/local/lib/python3.6/dist-packages (from matplotlib->imageai) (1.2.0)\n",
            "Requirement already satisfied, skipping upgrade: python-dateutil>=2.1 in /usr/local/lib/python3.6/dist-packages (from matplotlib->imageai) (2.8.1)\n",
            "Requirement already satisfied, skipping upgrade: cycler>=0.10 in /usr/local/lib/python3.6/dist-packages (from matplotlib->imageai) (0.10.0)\n"
          ],
          "name": "stdout"
        }
      ]
    },
    {
      "cell_type": "code",
      "metadata": {
        "id": "y8MXTDCfwGsf",
        "colab_type": "code",
        "colab": {}
      },
      "source": [
        "# !apt-get install unzip"
      ],
      "execution_count": 0,
      "outputs": []
    },
    {
      "cell_type": "code",
      "metadata": {
        "id": "SFW26ULKvph0",
        "colab_type": "code",
        "colab": {}
      },
      "source": [
        "# !wget https://github.com/OlafenwaMoses/ImageAI/releases/download/essential-v4/pretrained-yolov3.h5"
      ],
      "execution_count": 0,
      "outputs": []
    },
    {
      "cell_type": "code",
      "metadata": {
        "id": "6jN8i9FkB3pT",
        "colab_type": "code",
        "outputId": "6d83a952-5dc5-49bc-924d-a161ec45fcad",
        "colab": {
          "base_uri": "https://localhost:8080/",
          "height": 35
        }
      },
      "source": [
        "from google.colab import drive\n",
        "drive.mount('/content/drive')"
      ],
      "execution_count": 0,
      "outputs": [
        {
          "output_type": "stream",
          "text": [
            "Drive already mounted at /content/drive; to attempt to forcibly remount, call drive.mount(\"/content/drive\", force_remount=True).\n"
          ],
          "name": "stdout"
        }
      ]
    },
    {
      "cell_type": "code",
      "metadata": {
        "id": "83048WWjwbi8",
        "colab_type": "code",
        "colab": {}
      },
      "source": [
        "# !unzip /content/drive/My\\ Drive/VisDrone2019DETtrain.zip -d /content/train"
      ],
      "execution_count": 0,
      "outputs": []
    },
    {
      "cell_type": "code",
      "metadata": {
        "id": "CkkYOnYVyDC8",
        "colab_type": "code",
        "colab": {}
      },
      "source": [
        "# import cv2\n",
        "# import os\n",
        "# import numpy as np\n",
        "\n",
        "\n",
        "# input_img_folder = '/content/train/VisDrone2019-DET-train/images'\n",
        "# input_ann_folder = '/content/train/VisDrone2019-DET-train/annotations'\n",
        "# output_ann_folder = '/content/VisDrone2019-DET-train/train/annotations'\n",
        "# output_img_folder = '/content/VisDrone2019-DET-train/train/images'\n",
        "\n",
        "# os.makedirs(output_img_folder, exist_ok=True)\n",
        "# os.makedirs(output_ann_folder, exist_ok=True)\n",
        "\n",
        "\n",
        "# image_list = os.listdir(input_img_folder)\n",
        "# annotation_list = os.listdir(input_ann_folder)\n",
        "\n",
        "# label_dict = {\n",
        "# \t\"0\" : \"Ignore\",\n",
        "# \t\"1\" : \"Pedestrian\",\n",
        "# \t\"2\" : \"People\",\n",
        "# \t\"3\" : \"Bicycle\",\n",
        "# \t\"4\" : \"Car\",\n",
        "# \t\"5\" : \"Van\",\n",
        "# \t\"6\" : \"Truck\",\n",
        "# \t\"7\" : \"Tricycle\",\n",
        "# \t\"8\" : \"Awning-tricycle\",\n",
        "# \t\"9\" : \"Bus\",\n",
        "# \t\"10\" : \"Motor\",\n",
        "# \t\"11\" : \"Others\"\n",
        "# }\n",
        "\n",
        "# thickness = 2\n",
        "# color = (255,0,0)\n",
        "# count = 0\n",
        "\n",
        "# nums = [0]*12\n",
        "\n",
        "# def object_string(label, bbox):\n",
        "# \treq_str = '''\n",
        "# \t<object>\n",
        "# \t\t<name>{}</name>\n",
        "# \t\t<pose>Unspecified</pose>\n",
        "# \t\t<truncated>0</truncated>\n",
        "# \t\t<difficult>0</difficult>\n",
        "# \t\t<bndbox>\n",
        "# \t\t\t<xmin>{}</xmin>\n",
        "# \t\t\t<ymin>{}</ymin>\n",
        "# \t\t\t<xmax>{}</xmax>\n",
        "# \t\t\t<ymax>{}</ymax>\n",
        "# \t\t</bndbox>\n",
        "# \t</object>\n",
        "# \t'''.format(label, bbox[0], bbox[1], bbox[2], bbox[3])\n",
        "# \treturn req_str\n",
        "\n",
        "# for annotation in annotation_list:\n",
        "# \tannotation_path = os.path.join(os.getcwd(), input_ann_folder, annotation)\n",
        "# \txml_annotation = annotation.split('.txt')[0] + '.xml'\n",
        "# \txml_path = os.path.join(os.getcwd(), output_ann_folder, xml_annotation)\n",
        "# \timg_file = annotation.split('.txt')[0] + '.jpg'\n",
        "# \timg_path = os.path.join(os.getcwd(), input_img_folder, img_file)\n",
        "# \toutput_img_path = os.path.join(os.getcwd(), output_img_folder, img_file)\n",
        "# \timg = cv2.imread(img_path)\n",
        "# \tannotation_string_init = '''\n",
        "# <annotation>\n",
        "# \t<folder>annotations</folder>\n",
        "# \t<filename>{}</filename>\n",
        "# \t<path>{}</path>\n",
        "# \t<source>\n",
        "# \t\t<database>Unknown</database>\n",
        "# \t</source>\n",
        "# \t<size>\n",
        "# \t\t<width>{}</width>\n",
        "# \t\t<height>{}</height>\n",
        "# \t\t<depth>{}</depth>\n",
        "# \t</size>\n",
        "# \t<segmented>0</segmented>'''.format(img_file, img_path, img.shape[0], img.shape[1], img.shape[2])\n",
        "\n",
        "# \tfile = open(annotation_path, 'r')\n",
        "# \tlines = file.readlines()\n",
        "# \tfor line in lines:\n",
        "# \t\tnew_line = line.strip('\\n').split(',')\n",
        "# \t\tnew_coords_min = (int(new_line[0]), int(new_line[1]))\n",
        "# \t\tnew_coords_max = (int(new_line[0])+int(new_line[2]), int(new_line[1])+int(new_line[3]))\n",
        "# \t\tbbox = (int(new_line[0]), int(new_line[1]), int(new_line[0])+int(new_line[2]), int(new_line[1])+int(new_line[3]))\n",
        "# \t\tlabel = label_dict.get(new_line[5])\n",
        "# \t\tnums[int(new_line[5])] += 1\n",
        "# \t\treq_str = object_string(label, bbox)\n",
        "# \t\tannotation_string_init = annotation_string_init + req_str\n",
        "# \t\t#cv2.rectangle(img, new_coords_min, new_coords_max, color, thickness)\n",
        "# \tcv2.imwrite(output_img_path, img)\n",
        "# \tannotation_string_final = annotation_string_init + '</annotation>'\n",
        "# \tf = open(xml_path, 'w')\n",
        "# \tf.write(annotation_string_final)\n",
        "# \tf.close()\n",
        "# \tcount += 1\n",
        "# \tprint('[INFO] Completed {} image(s) and annotation(s) pair'.format(count))\n"
      ],
      "execution_count": 0,
      "outputs": []
    },
    {
      "cell_type": "code",
      "metadata": {
        "id": "dCo0_yQMwzyX",
        "colab_type": "code",
        "outputId": "29c05b2f-0c28-4044-fa38-8ace38248cbc",
        "colab": {
          "base_uri": "https://localhost:8080/",
          "height": 343
        }
      },
      "source": [
        "from imageai.Detection.Custom import DetectionModelTrainer\n",
        "\n",
        "trainer = DetectionModelTrainer()\n",
        "trainer.setModelTypeAsYOLOv3()\n",
        "trainer.setDataDirectory(data_directory=\"/content/drive/My Drive/VisDrone2019-DET-train\")\n",
        "trainer.setTrainConfig(object_names_array=[ \"Ignore\", \"Pedestrian\", \"People\", \"Bicycle\", \"Car\", \"Van\", \"Truck\", \"Tricycle\", \"Awning-tricycle\", \"Bus\", \"Motor\", \"Others\"], batch_size=32, num_experiments=10, train_from_pretrained_model=\"/content/drive/My Drive/pretrained-yolov3.h5\")\n"
      ],
      "execution_count": 0,
      "outputs": [
        {
          "output_type": "stream",
          "text": [
            "Using TensorFlow backend.\n",
            "/usr/local/lib/python3.6/dist-packages/tensorflow/python/framework/dtypes.py:526: FutureWarning: Passing (type, 1) or '1type' as a synonym of type is deprecated; in a future version of numpy, it will be understood as (type, (1,)) / '(1,)type'.\n",
            "  _np_qint8 = np.dtype([(\"qint8\", np.int8, 1)])\n",
            "/usr/local/lib/python3.6/dist-packages/tensorflow/python/framework/dtypes.py:527: FutureWarning: Passing (type, 1) or '1type' as a synonym of type is deprecated; in a future version of numpy, it will be understood as (type, (1,)) / '(1,)type'.\n",
            "  _np_quint8 = np.dtype([(\"quint8\", np.uint8, 1)])\n",
            "/usr/local/lib/python3.6/dist-packages/tensorflow/python/framework/dtypes.py:528: FutureWarning: Passing (type, 1) or '1type' as a synonym of type is deprecated; in a future version of numpy, it will be understood as (type, (1,)) / '(1,)type'.\n",
            "  _np_qint16 = np.dtype([(\"qint16\", np.int16, 1)])\n",
            "/usr/local/lib/python3.6/dist-packages/tensorflow/python/framework/dtypes.py:529: FutureWarning: Passing (type, 1) or '1type' as a synonym of type is deprecated; in a future version of numpy, it will be understood as (type, (1,)) / '(1,)type'.\n",
            "  _np_quint16 = np.dtype([(\"quint16\", np.uint16, 1)])\n",
            "/usr/local/lib/python3.6/dist-packages/tensorflow/python/framework/dtypes.py:530: FutureWarning: Passing (type, 1) or '1type' as a synonym of type is deprecated; in a future version of numpy, it will be understood as (type, (1,)) / '(1,)type'.\n",
            "  _np_qint32 = np.dtype([(\"qint32\", np.int32, 1)])\n",
            "/usr/local/lib/python3.6/dist-packages/tensorflow/python/framework/dtypes.py:535: FutureWarning: Passing (type, 1) or '1type' as a synonym of type is deprecated; in a future version of numpy, it will be understood as (type, (1,)) / '(1,)type'.\n",
            "  np_resource = np.dtype([(\"resource\", np.ubyte, 1)])\n"
          ],
          "name": "stderr"
        },
        {
          "output_type": "stream",
          "text": [
            "Generating anchor boxes for training images and annotation...\n",
            "Average IOU for 9 anchors: 0.65\n",
            "Anchor Boxes generated.\n",
            "Detection configuration saved in  /content/drive/My Drive/VisDrone2019-DET-train/json/detection_config.json\n"
          ],
          "name": "stdout"
        }
      ]
    },
    {
      "cell_type": "code",
      "metadata": {
        "id": "jkbHnRRxzdXM",
        "colab_type": "code",
        "outputId": "811e9cc0-17b5-4f0b-9b71-13c5e325405e",
        "colab": {
          "base_uri": "https://localhost:8080/",
          "height": 325
        }
      },
      "source": [
        "trainer.trainModel()"
      ],
      "execution_count": 0,
      "outputs": [
        {
          "output_type": "stream",
          "text": [
            "Training on: \t['Awning-tricycle', 'Bicycle', 'Bus', 'Car', 'Ignore', 'Motor', 'Others', 'Pedestrian', 'People', 'Tricycle', 'Truck', 'Van']\n",
            "Training with Batch Size:  64\n",
            "Number of Experiments:  10\n",
            "WARNING:tensorflow:From /usr/local/lib/python3.6/dist-packages/tensorflow/python/ops/resource_variable_ops.py:435: colocate_with (from tensorflow.python.framework.ops) is deprecated and will be removed in a future version.\n",
            "Instructions for updating:\n",
            "Colocations handled automatically by placer.\n",
            "WARNING:tensorflow:From /usr/local/lib/python3.6/dist-packages/imageai/Detection/Custom/yolo.py:24: to_float (from tensorflow.python.ops.math_ops) is deprecated and will be removed in a future version.\n",
            "Instructions for updating:\n",
            "Use tf.cast instead.\n",
            "Training with transfer learning from pretrained Model\n"
          ],
          "name": "stdout"
        },
        {
          "output_type": "stream",
          "text": [
            "/usr/local/lib/python3.6/dist-packages/keras/callbacks/callbacks.py:998: UserWarning: `epsilon` argument is deprecated and will be removed, use `min_delta` instead.\n",
            "  warnings.warn('`epsilon` argument is deprecated and '\n"
          ],
          "name": "stderr"
        },
        {
          "output_type": "stream",
          "text": [
            "WARNING:tensorflow:From /usr/local/lib/python3.6/dist-packages/tensorflow/python/ops/math_ops.py:3066: to_int32 (from tensorflow.python.ops.math_ops) is deprecated and will be removed in a future version.\n",
            "Instructions for updating:\n",
            "Use tf.cast instead.\n",
            "Epoch 1/10\n"
          ],
          "name": "stdout"
        }
      ]
    },
    {
      "cell_type": "code",
      "metadata": {
        "id": "kv49uThCCboi",
        "colab_type": "code",
        "colab": {}
      },
      "source": [
        "# !cp -rn \"/content/VisDrone2019-DET-train\" \"/content/drive/My Drive\"\n",
        "# !cp -r \"/content/VisDrone2019-DET-train/logs\" \"/content/drive/My Drive\"\n",
        "# !cp -r \"/content/VisDrone2019-DET-train/models\" \"/content/drive/My Drive\""
      ],
      "execution_count": 0,
      "outputs": []
    }
  ]
}