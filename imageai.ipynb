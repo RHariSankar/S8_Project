{
 "cells": [
  {
   "cell_type": "code",
   "execution_count": 1,
   "metadata": {},
   "outputs": [
    {
     "name": "stderr",
     "output_type": "stream",
     "text": [
      "/home/harisankar/.local/lib/python3.6/site-packages/tensorflow/python/framework/dtypes.py:516: FutureWarning: Passing (type, 1) or '1type' as a synonym of type is deprecated; in a future version of numpy, it will be understood as (type, (1,)) / '(1,)type'.\n",
      "  _np_qint8 = np.dtype([(\"qint8\", np.int8, 1)])\n",
      "/home/harisankar/.local/lib/python3.6/site-packages/tensorflow/python/framework/dtypes.py:517: FutureWarning: Passing (type, 1) or '1type' as a synonym of type is deprecated; in a future version of numpy, it will be understood as (type, (1,)) / '(1,)type'.\n",
      "  _np_quint8 = np.dtype([(\"quint8\", np.uint8, 1)])\n",
      "/home/harisankar/.local/lib/python3.6/site-packages/tensorflow/python/framework/dtypes.py:518: FutureWarning: Passing (type, 1) or '1type' as a synonym of type is deprecated; in a future version of numpy, it will be understood as (type, (1,)) / '(1,)type'.\n",
      "  _np_qint16 = np.dtype([(\"qint16\", np.int16, 1)])\n",
      "/home/harisankar/.local/lib/python3.6/site-packages/tensorflow/python/framework/dtypes.py:519: FutureWarning: Passing (type, 1) or '1type' as a synonym of type is deprecated; in a future version of numpy, it will be understood as (type, (1,)) / '(1,)type'.\n",
      "  _np_quint16 = np.dtype([(\"quint16\", np.uint16, 1)])\n",
      "/home/harisankar/.local/lib/python3.6/site-packages/tensorflow/python/framework/dtypes.py:520: FutureWarning: Passing (type, 1) or '1type' as a synonym of type is deprecated; in a future version of numpy, it will be understood as (type, (1,)) / '(1,)type'.\n",
      "  _np_qint32 = np.dtype([(\"qint32\", np.int32, 1)])\n",
      "/home/harisankar/.local/lib/python3.6/site-packages/tensorflow/python/framework/dtypes.py:525: FutureWarning: Passing (type, 1) or '1type' as a synonym of type is deprecated; in a future version of numpy, it will be understood as (type, (1,)) / '(1,)type'.\n",
      "  np_resource = np.dtype([(\"resource\", np.ubyte, 1)])\n",
      "/home/harisankar/.local/lib/python3.6/site-packages/tensorboard/compat/tensorflow_stub/dtypes.py:541: FutureWarning: Passing (type, 1) or '1type' as a synonym of type is deprecated; in a future version of numpy, it will be understood as (type, (1,)) / '(1,)type'.\n",
      "  _np_qint8 = np.dtype([(\"qint8\", np.int8, 1)])\n",
      "/home/harisankar/.local/lib/python3.6/site-packages/tensorboard/compat/tensorflow_stub/dtypes.py:542: FutureWarning: Passing (type, 1) or '1type' as a synonym of type is deprecated; in a future version of numpy, it will be understood as (type, (1,)) / '(1,)type'.\n",
      "  _np_quint8 = np.dtype([(\"quint8\", np.uint8, 1)])\n",
      "/home/harisankar/.local/lib/python3.6/site-packages/tensorboard/compat/tensorflow_stub/dtypes.py:543: FutureWarning: Passing (type, 1) or '1type' as a synonym of type is deprecated; in a future version of numpy, it will be understood as (type, (1,)) / '(1,)type'.\n",
      "  _np_qint16 = np.dtype([(\"qint16\", np.int16, 1)])\n",
      "/home/harisankar/.local/lib/python3.6/site-packages/tensorboard/compat/tensorflow_stub/dtypes.py:544: FutureWarning: Passing (type, 1) or '1type' as a synonym of type is deprecated; in a future version of numpy, it will be understood as (type, (1,)) / '(1,)type'.\n",
      "  _np_quint16 = np.dtype([(\"quint16\", np.uint16, 1)])\n",
      "/home/harisankar/.local/lib/python3.6/site-packages/tensorboard/compat/tensorflow_stub/dtypes.py:545: FutureWarning: Passing (type, 1) or '1type' as a synonym of type is deprecated; in a future version of numpy, it will be understood as (type, (1,)) / '(1,)type'.\n",
      "  _np_qint32 = np.dtype([(\"qint32\", np.int32, 1)])\n",
      "/home/harisankar/.local/lib/python3.6/site-packages/tensorboard/compat/tensorflow_stub/dtypes.py:550: FutureWarning: Passing (type, 1) or '1type' as a synonym of type is deprecated; in a future version of numpy, it will be understood as (type, (1,)) / '(1,)type'.\n",
      "  np_resource = np.dtype([(\"resource\", np.ubyte, 1)])\n"
     ]
    }
   ],
   "source": [
    "import tensorflow as tf\n",
    "import cv2\n",
    "import numpy as np\n",
    "from tensorflow.python.keras import backend as K\n",
    "import matplotlib as plt\n",
    "import math\n",
    "from PIL import Image\n",
    "import time"
   ]
  },
  {
   "cell_type": "code",
   "execution_count": 2,
   "metadata": {},
   "outputs": [
    {
     "name": "stdout",
     "output_type": "stream",
     "text": [
      "2.2.4-tf\n",
      "1.14.0\n"
     ]
    }
   ],
   "source": [
    "print(tf.keras.__version__)\n",
    "print(tf.__version__)"
   ]
  },
  {
   "cell_type": "code",
   "execution_count": 3,
   "metadata": {},
   "outputs": [
    {
     "name": "stderr",
     "output_type": "stream",
     "text": [
      "Using TensorFlow backend.\n"
     ]
    }
   ],
   "source": [
    "from imageai.Detection import ObjectDetection"
   ]
  },
  {
   "cell_type": "code",
   "execution_count": 4,
   "metadata": {},
   "outputs": [
    {
     "name": "stdout",
     "output_type": "stream",
     "text": [
      "WARNING:tensorflow:From /home/harisankar/.local/lib/python3.6/site-packages/keras/backend/tensorflow_backend.py:171: The name tf.get_default_session is deprecated. Please use tf.compat.v1.get_default_session instead.\n",
      "\n",
      "WARNING:tensorflow:From /home/harisankar/.local/lib/python3.6/site-packages/keras/backend/tensorflow_backend.py:178: The name tf.ConfigProto is deprecated. Please use tf.compat.v1.ConfigProto instead.\n",
      "\n",
      "WARNING:tensorflow:From /home/harisankar/.local/lib/python3.6/site-packages/keras/backend/tensorflow_backend.py:183: The name tf.Session is deprecated. Please use tf.compat.v1.Session instead.\n",
      "\n",
      "WARNING:tensorflow:From /home/harisankar/.local/lib/python3.6/site-packages/keras/backend/tensorflow_backend.py:187: The name tf.global_variables is deprecated. Please use tf.compat.v1.global_variables instead.\n",
      "\n",
      "WARNING:tensorflow:From /home/harisankar/.local/lib/python3.6/site-packages/keras/backend/tensorflow_backend.py:71: The name tf.get_default_graph is deprecated. Please use tf.compat.v1.get_default_graph instead.\n",
      "\n",
      "WARNING:tensorflow:From /home/harisankar/.local/lib/python3.6/site-packages/keras/backend/tensorflow_backend.py:1811: The name tf.nn.fused_batch_norm is deprecated. Please use tf.compat.v1.nn.fused_batch_norm instead.\n",
      "\n",
      "WARNING:tensorflow:From /home/harisankar/.local/lib/python3.6/site-packages/keras/backend/tensorflow_backend.py:1982: The name tf.image.resize_nearest_neighbor is deprecated. Please use tf.compat.v1.image.resize_nearest_neighbor instead.\n",
      "\n",
      "WARNING:tensorflow:From /home/harisankar/.local/lib/python3.6/site-packages/tensorflow/python/ops/array_ops.py:1354: add_dispatch_support.<locals>.wrapper (from tensorflow.python.ops.array_ops) is deprecated and will be removed in a future version.\n",
      "Instructions for updating:\n",
      "Use tf.where in 2.0, which has the same broadcast rule as np.where\n"
     ]
    }
   ],
   "source": [
    "detector = ObjectDetection()\n",
    "detector.setModelTypeAsYOLOv3()\n",
    "detector.setModelPath(\"yolo.h5\")\n",
    "detector.loadModel()"
   ]
  },
  {
   "cell_type": "code",
   "execution_count": 5,
   "metadata": {},
   "outputs": [
    {
     "name": "stdout",
     "output_type": "stream",
     "text": [
      "crowdresult.jpg\n"
     ]
    }
   ],
   "source": [
    "file_name = \"crowd.jpg\"\n",
    "out_file_name = file_name.split('.')[0]+\"result.jpg\"\n",
    "print(out_file_name)"
   ]
  },
  {
   "cell_type": "code",
   "execution_count": 6,
   "metadata": {},
   "outputs": [
    {
     "name": "stdout",
     "output_type": "stream",
     "text": [
      "<class 'numpy.ndarray'>\n",
      "(540, 960, 3)\n"
     ]
    }
   ],
   "source": [
    "img = tf.keras.preprocessing.image.load_img(file_name)\n",
    "img = tf.keras.preprocessing.image.img_to_array(img)\n",
    "print(type(img))\n",
    "img_shape = img.shape\n",
    "img_height = img_shape[0]\n",
    "img_width = img_shape[1]\n",
    "print(img.shape)"
   ]
  },
  {
   "cell_type": "code",
   "execution_count": 7,
   "metadata": {},
   "outputs": [
    {
     "name": "stdout",
     "output_type": "stream",
     "text": [
      "270 480\n"
     ]
    }
   ],
   "source": [
    "mid_h = math.ceil(img_height/2)\n",
    "mid_w = math.ceil(img_width/2)\n",
    "print(mid_h,mid_w)\n",
    "offset_h = math.ceil(0.1*img_height)\n",
    "offset_w = math.ceil(0.06*img_width)\n",
    "\n",
    "# print(offset_h,offset_w)\n",
    "\n",
    "p1 = (mid_h+offset_h)/img_height\n",
    "p2 = (mid_w+offset_w)/img_width\n",
    "p3 = (mid_h-offset_h)/img_height\n",
    "p4 = (mid_w-offset_w)/img_width\n",
    "\n",
    "# print(p1,p2)\n",
    "\n",
    "box1 = [0,0,p1,p2]\n",
    "box2 = [0,p3,p1,1]\n",
    "box3 = [p4,0,1,p2]\n",
    "box4 = [p4,p3,1,1]\n",
    "\n",
    "box1 = np.array(box1)\n",
    "box2 = np.array(box2)\n",
    "box3 = np.array(box3)\n",
    "box4 = np.array(box4)\n",
    "\n"
   ]
  },
  {
   "cell_type": "code",
   "execution_count": 8,
   "metadata": {},
   "outputs": [
    {
     "name": "stdout",
     "output_type": "stream",
     "text": [
      "[[[0.         0.         0.6        0.56041667]\n",
      "  [0.         0.4        0.6        1.        ]\n",
      "  [0.43958333 0.         1.         0.56041667]\n",
      "  [0.43958333 0.4        1.         1.        ]]]\n"
     ]
    }
   ],
   "source": [
    "draw_boxes = [[box1,box2,box3,box4]]\n",
    "draw_boxes = np.array(draw_boxes)\n",
    "print(draw_boxes)"
   ]
  },
  {
   "cell_type": "code",
   "execution_count": 9,
   "metadata": {},
   "outputs": [
    {
     "name": "stdout",
     "output_type": "stream",
     "text": [
      "(1, 540, 960, 3)\n",
      "(4, 4)\n",
      "WARNING:tensorflow:From <ipython-input-9-3cd58893bfa9>:22: calling crop_and_resize_v1 (from tensorflow.python.ops.image_ops_impl) with box_ind is deprecated and will be removed in a future version.\n",
      "Instructions for updating:\n",
      "box_ind is deprecated, use box_indices instead\n",
      "(4, 300, 534, 3)\n",
      "<class 'numpy.ndarray'>\n",
      "(4, 300, 534, 3)\n"
     ]
    }
   ],
   "source": [
    "images = []\n",
    "images.append(img)\n",
    "images = np.array(images)\n",
    "print(images.shape)\n",
    "\n",
    "box1 = box1.reshape([4])\n",
    "box2 = box2.reshape([4])\n",
    "box3 = box3.reshape([4])\n",
    "box4 = box4.reshape([4])\n",
    "\n",
    "boxes = []\n",
    "boxes.append(box1)\n",
    "boxes.append(box2)\n",
    "boxes.append(box3)\n",
    "boxes.append(box4)\n",
    "boxes = np.array(boxes)\n",
    "\n",
    "print(boxes.shape)\n",
    "\n",
    "crop_tensor = tf.image.crop_and_resize(\n",
    "    images, boxes, [0,0,0,0], crop_size=[300,534], method='bilinear', extrapolation_value=0,\n",
    "    name=None\n",
    ")\n",
    "\n",
    "cropped_images = crop_tensor.eval(session=tf.Session())\n",
    "\n",
    "print(crop_tensor.shape)\n",
    "print(type(cropped_images))\n",
    "print(cropped_images.shape)\n",
    "\n",
    "for i in range(4):\n",
    "    result = tf.keras.preprocessing.image.array_to_img(cropped_images[i],data_format=None, scale=True, dtype=None)\n",
    "    name = \"abc\"+str(i)+\".jpg\"\n",
    "    result.save(name)"
   ]
  },
  {
   "cell_type": "code",
   "execution_count": 10,
   "metadata": {},
   "outputs": [],
   "source": [
    "draw_tensor = tf.image.draw_bounding_boxes(images, draw_boxes, name=None) \n",
    "draw_img = draw_tensor.eval(session=tf.Session())\n",
    "type(draw_img)\n",
    "drawn_img = tf.keras.preprocessing.image.array_to_img(draw_img[0],data_format=None, scale=True, dtype=None)\n",
    "drawn_img.save(\"boxes.jpg\")"
   ]
  },
  {
   "cell_type": "code",
   "execution_count": 11,
   "metadata": {},
   "outputs": [],
   "source": [
    "detections = detector.detectObjectsFromImage(input_image=file_name, output_image_path=out_file_name, minimum_percentage_probability=30,)"
   ]
  },
  {
   "cell_type": "code",
   "execution_count": 12,
   "metadata": {},
   "outputs": [
    {
     "name": "stdout",
     "output_type": "stream",
     "text": [
      "3.7826850414276123\n"
     ]
    }
   ],
   "source": [
    "tic = time.time()\n",
    "detections = []\n",
    "for i in range(4):\n",
    "    crop_det = detector.detectObjectsFromImage(input_image=cropped_images[i],input_type=\"array\", output_image_path=\"crop_det\"+str(i)+\".jpg\", minimum_percentage_probability=30)\n",
    "    detections.append(crop_det)\n",
    "\n",
    "tac = time.time()\n",
    "\n",
    "elapsed = tac-tic\n",
    "print(elapsed)"
   ]
  },
  {
   "cell_type": "code",
   "execution_count": 13,
   "metadata": {},
   "outputs": [
    {
     "data": {
      "text/plain": [
       "[{'box_points': [489, 160, 502, 168],\n",
       "  'name': 'sports ball',\n",
       "  'percentage_probability': 43.53354573249817},\n",
       " {'box_points': [278, 27, 287, 52],\n",
       "  'name': 'person',\n",
       "  'percentage_probability': 39.784759283065796},\n",
       " {'box_points': [257, 27, 268, 44],\n",
       "  'name': 'person',\n",
       "  'percentage_probability': 42.853572964668274},\n",
       " {'box_points': [511, 7, 527, 39],\n",
       "  'name': 'person',\n",
       "  'percentage_probability': 42.89233982563019},\n",
       " {'box_points': [464, 3, 477, 36],\n",
       "  'name': 'person',\n",
       "  'percentage_probability': 46.661725640296936},\n",
       " {'box_points': [493, 12, 504, 36],\n",
       "  'name': 'person',\n",
       "  'percentage_probability': 48.408642411231995},\n",
       " {'box_points': [19, 282, 40, 300],\n",
       "  'name': 'person',\n",
       "  'percentage_probability': 54.931217432022095},\n",
       " {'box_points': [302, 86, 325, 117],\n",
       "  'name': 'person',\n",
       "  'percentage_probability': 61.790770292282104},\n",
       " {'box_points': [312, 45, 326, 80],\n",
       "  'name': 'person',\n",
       "  'percentage_probability': 62.81340718269348},\n",
       " {'box_points': [127, 112, 146, 152],\n",
       "  'name': 'person',\n",
       "  'percentage_probability': 70.63704133033752},\n",
       " {'box_points': [326, 31, 339, 68],\n",
       "  'name': 'person',\n",
       "  'percentage_probability': 71.10260725021362},\n",
       " {'box_points': [232, 45, 245, 96],\n",
       "  'name': 'person',\n",
       "  'percentage_probability': 71.1294174194336},\n",
       " {'box_points': [297, 27, 308, 54],\n",
       "  'name': 'person',\n",
       "  'percentage_probability': 75.85746049880981},\n",
       " {'box_points': [254, 43, 267, 85],\n",
       "  'name': 'person',\n",
       "  'percentage_probability': 83.1702470779419},\n",
       " {'box_points': [109, 126, 133, 181],\n",
       "  'name': 'person',\n",
       "  'percentage_probability': 84.2702329158783},\n",
       " {'box_points': [341, 38, 354, 73],\n",
       "  'name': 'person',\n",
       "  'percentage_probability': 84.72554683685303},\n",
       " {'box_points': [65, 101, 84, 154],\n",
       "  'name': 'person',\n",
       "  'percentage_probability': 85.29031872749329},\n",
       " {'box_points': [147, 117, 167, 159],\n",
       "  'name': 'person',\n",
       "  'percentage_probability': 92.5584614276886},\n",
       " {'box_points': [49, 71, 68, 116],\n",
       "  'name': 'person',\n",
       "  'percentage_probability': 97.11612462997437},\n",
       " {'box_points': [332, 80, 349, 119],\n",
       "  'name': 'person',\n",
       "  'percentage_probability': 97.60780334472656},\n",
       " {'box_points': [427, 170, 461, 235],\n",
       "  'name': 'person',\n",
       "  'percentage_probability': 98.71340990066528}]"
      ]
     },
     "execution_count": 13,
     "metadata": {},
     "output_type": "execute_result"
    }
   ],
   "source": [
    "detections[3]"
   ]
  },
  {
   "cell_type": "code",
   "execution_count": null,
   "metadata": {},
   "outputs": [],
   "source": []
  },
  {
   "cell_type": "code",
   "execution_count": null,
   "metadata": {},
   "outputs": [],
   "source": []
  }
 ],
 "metadata": {
  "kernelspec": {
   "display_name": "Python 3",
   "language": "python",
   "name": "python3"
  },
  "language_info": {
   "codemirror_mode": {
    "name": "ipython",
    "version": 3
   },
   "file_extension": ".py",
   "mimetype": "text/x-python",
   "name": "python",
   "nbconvert_exporter": "python",
   "pygments_lexer": "ipython3",
   "version": "3.6.9"
  }
 },
 "nbformat": 4,
 "nbformat_minor": 2
}
