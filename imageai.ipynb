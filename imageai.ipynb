{
 "cells": [
  {
   "cell_type": "code",
   "execution_count": 1,
   "metadata": {},
   "outputs": [
    {
     "name": "stderr",
     "output_type": "stream",
     "text": [
      "Using TensorFlow backend.\n"
     ]
    }
   ],
   "source": [
    "import tensorflow as tf\n",
    "import numpy as np\n",
    "import matplotlib as plt\n",
    "import math\n",
    "import time\n",
    "from PIL import Image\n",
    "from imageai.Detection import ObjectDetection"
   ]
  },
  {
   "cell_type": "code",
   "execution_count": 2,
   "metadata": {},
   "outputs": [],
   "source": [
    "model_path = './models/'\n",
    "model_name = 'yolo.h5'\n",
    "model = model_path + model_name"
   ]
  },
  {
   "cell_type": "code",
   "execution_count": 3,
   "metadata": {},
   "outputs": [
    {
     "name": "stdout",
     "output_type": "stream",
     "text": [
      "WARNING:tensorflow:From /media/mathew/Personnel/Project/envs/tens1/lib/python3.6/site-packages/tensorflow_core/python/ops/resource_variable_ops.py:1630: calling BaseResourceVariable.__init__ (from tensorflow.python.ops.resource_variable_ops) with constraint is deprecated and will be removed in a future version.\n",
      "Instructions for updating:\n",
      "If using Keras pass *_constraint arguments to layers.\n",
      "WARNING:tensorflow:From /media/mathew/Personnel/Project/envs/tens1/lib/python3.6/site-packages/tensorflow_core/python/ops/array_ops.py:1475: where (from tensorflow.python.ops.array_ops) is deprecated and will be removed in a future version.\n",
      "Instructions for updating:\n",
      "Use tf.where in 2.0, which has the same broadcast rule as np.where\n"
     ]
    }
   ],
   "source": [
    "detector = ObjectDetection()\n",
    "detector.setModelTypeAsYOLOv3()\n",
    "detector.setModelPath(model)\n",
    "detector.loadModel()"
   ]
  },
  {
   "cell_type": "code",
   "execution_count": 4,
   "metadata": {},
   "outputs": [],
   "source": [
    "input_path = './input/images/'\n",
    "output_path = './output/images/'\n",
    "result_path = './output/result/'"
   ]
  },
  {
   "cell_type": "code",
   "execution_count": 5,
   "metadata": {},
   "outputs": [],
   "source": [
    "file_name = 'crowd.jpg'"
   ]
  },
  {
   "cell_type": "code",
   "execution_count": 6,
   "metadata": {},
   "outputs": [],
   "source": [
    "input_file = input_path + file_name\n",
    "model = model_path + model_name\n",
    "output_file = output_path + file_name \n",
    "result_file = result_path + file_name.split('.')[0] + '.txt'"
   ]
  },
  {
   "cell_type": "code",
   "execution_count": 7,
   "metadata": {},
   "outputs": [],
   "source": [
    "image = tf.keras.preprocessing.image.load_img(input_file)\n",
    "image = tf.keras.preprocessing.image.img_to_array(image)"
   ]
  },
  {
   "cell_type": "code",
   "execution_count": 8,
   "metadata": {},
   "outputs": [],
   "source": [
    "shape = image.shape\n",
    "height = shape[0]\n",
    "width = shape[1]"
   ]
  },
  {
   "cell_type": "code",
   "execution_count": 9,
   "metadata": {},
   "outputs": [],
   "source": [
    "offset_height = 0.05 * height\n",
    "offset_width = 0.03 * width"
   ]
  },
  {
   "cell_type": "code",
   "execution_count": 10,
   "metadata": {},
   "outputs": [],
   "source": [
    "# # number of vertical cuts\n",
    "# vert_pieces = math.ceil(height/416)\n",
    "# # number of horizontal cuts\n",
    "# horiz_pieces = math.ceil(width/416)\n",
    "vert_pieces = 2\n",
    "horiz_pieces = 2"
   ]
  },
  {
   "cell_type": "code",
   "execution_count": 11,
   "metadata": {},
   "outputs": [],
   "source": [
    "crop_height = int(math.ceil(height/vert_pieces + offset_height))\n",
    "crop_width = int(math.ceil(width/horiz_pieces + offset_width))"
   ]
  },
  {
   "cell_type": "code",
   "execution_count": 12,
   "metadata": {},
   "outputs": [],
   "source": [
    "boxes = []\n",
    "x1 = 0\n",
    "y1 = 0\n",
    "for i in range(vert_pieces):\n",
    "    y = y1 + crop_height/height\n",
    "    for j in range(horiz_pieces):\n",
    "        x = x1 + crop_width/width\n",
    "        if(y > 1):\n",
    "            y = 1\n",
    "        if(x > 1):\n",
    "            x = 1\n",
    "        boxes.append([y1,x1,y,x])\n",
    "        x1 = x - (2*offset_width)/width\n",
    "    x1 = 0\n",
    "    y1 = y - (2*offset_height)/height\n",
    "boxes = np.array(boxes)"
   ]
  },
  {
   "cell_type": "code",
   "execution_count": 13,
   "metadata": {},
   "outputs": [],
   "source": [
    "images = []\n",
    "images.append(image)\n",
    "images = np.array(images)\n",
    "num_boxes = boxes.shape[0]\n",
    "box_indices = np.zeros(num_boxes)"
   ]
  },
  {
   "cell_type": "code",
   "execution_count": 14,
   "metadata": {},
   "outputs": [
    {
     "name": "stdout",
     "output_type": "stream",
     "text": [
      "WARNING:tensorflow:From <ipython-input-14-160fa313c490>:1: calling crop_and_resize_v1 (from tensorflow.python.ops.image_ops_impl) with box_ind is deprecated and will be removed in a future version.\n",
      "Instructions for updating:\n",
      "box_ind is deprecated, use box_indices instead\n"
     ]
    }
   ],
   "source": [
    "crop_tensor = tf.image.crop_and_resize(images, boxes, box_indices, crop_size=[crop_height,crop_width], method='bilinear', extrapolation_value=0, name=None)\n",
    "\n",
    "cropped_images = crop_tensor.eval(session=tf.Session())"
   ]
  },
  {
   "cell_type": "code",
   "execution_count": 15,
   "metadata": {},
   "outputs": [
    {
     "name": "stdout",
     "output_type": "stream",
     "text": [
      "11.676269054412842\n"
     ]
    }
   ],
   "source": [
    "tic = time.time()\n",
    "\n",
    "crop_detections = []\n",
    "for i in range(num_boxes):\n",
    "    temp_img, crop_det = detector.detectObjectsFromImage(input_image=cropped_images[i],input_type=\"array\", output_type=\"array\",minimum_percentage_probability=50)\n",
    "#     crop_det = detector.detectObjectsFromImage(input_image=cropped_images[i],input_type=\"array\", output_image_path=\"crop_det\"+str(i)+\".jpg\", minimum_percentage_probability=50)\n",
    "    crop_detections.append(crop_det)\n",
    "\n",
    "tac = time.time()\n",
    "\n",
    "elapsed = tac-tic\n",
    "print(elapsed)"
   ]
  },
  {
   "cell_type": "code",
   "execution_count": 16,
   "metadata": {},
   "outputs": [],
   "source": [
    "detected_boxes = []\n",
    "detections = []\n",
    "scores = []\n",
    "for i in range(num_boxes):\n",
    "    size = len(crop_detections[i])\n",
    "    x = boxes[i][1]*width\n",
    "    y = boxes[i][0]*height\n",
    "    for j in range(size):\n",
    "        detected = crop_detections[i][j]\n",
    "        box = detected['box_points']\n",
    "        box = [box[0]+x, box[1]+y, box[2]+x, box[3]+y]\n",
    "        detected_boxes.append(box)\n",
    "        detected['box_points'] = box\n",
    "        scores.append(detected['percentage_probability'])\n",
    "        detections.append(detected)\n",
    "detected_boxes = np.array(detected_boxes)\n",
    "scores = np.array(scores)"
   ]
  },
  {
   "cell_type": "code",
   "execution_count": 18,
   "metadata": {},
   "outputs": [],
   "source": [
    "selected_indices = tf.image.non_max_suppression(tf.convert_to_tensor(detected_boxes, dtype=tf.float32), tf.convert_to_tensor(scores, dtype=tf.float32), len(detected_boxes), 0.5)\n",
    "selected_indices = selected_indices.eval(session=tf.Session())"
   ]
  },
  {
   "cell_type": "code",
   "execution_count": null,
   "metadata": {},
   "outputs": [],
   "source": [
    "final_detections = []\n",
    "for index in selected_indices:\n",
    "    final_detections.append(detections[index])"
   ]
  }
 ],
 "metadata": {
  "kernelspec": {
   "display_name": "Python 3",
   "language": "python",
   "name": "python3"
  },
  "language_info": {
   "codemirror_mode": {
    "name": "ipython",
    "version": 3
   },
   "file_extension": ".py",
   "mimetype": "text/x-python",
   "name": "python",
   "nbconvert_exporter": "python",
   "pygments_lexer": "ipython3",
   "version": "3.6.8"
  }
 },
 "nbformat": 4,
 "nbformat_minor": 4
}
