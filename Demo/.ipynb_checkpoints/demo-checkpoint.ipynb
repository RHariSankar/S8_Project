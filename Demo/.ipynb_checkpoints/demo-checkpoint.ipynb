{
 "cells": [
  {
   "cell_type": "code",
   "execution_count": null,
   "metadata": {},
   "outputs": [],
   "source": [
    "import tensorflow as tf\n",
    "import numpy as np\n",
    "import matplotlib.pyplot as plt\n",
    "import matplotlib.image as mpimg\n",
    "import math\n",
    "import time\n",
    "import sys\n",
    "from PIL import Image\n",
    "from imageai.Detection import ObjectDetection\n",
    "from tkinter import Tk\n",
    "from tkinter.filedialog import askopenfilename\n",
    "\n",
    "sys.path.append('../Python')\n",
    "from drawboxes import *"
   ]
  },
  {
   "cell_type": "code",
   "execution_count": null,
   "metadata": {},
   "outputs": [],
   "source": [
    "config = {\n",
    "    \"saveslices\" : True,\n",
    "    \"drawboxes\" : True,\n",
    "    \"saveFinalDetections\" : True\n",
    "}"
   ]
  },
  {
   "cell_type": "code",
   "execution_count": null,
   "metadata": {},
   "outputs": [],
   "source": [
    "Tk().withdraw() # we don't want a full GUI, so keep the root window from appearing\n",
    "filename = askopenfilename() # show an \"Open\" dialog box and return the path to the selected file\n",
    "filename = filename.split('/')[-1]\n",
    "print(filename)"
   ]
  },
  {
   "cell_type": "code",
   "execution_count": null,
   "metadata": {},
   "outputs": [],
   "source": [
    "model_path = '../models/'\n",
    "model_name = 'yolo.h5'\n",
    "model_weight = model_path + model_name"
   ]
  },
  {
   "cell_type": "code",
   "execution_count": null,
   "metadata": {},
   "outputs": [],
   "source": [
    "input_path = '../input/images/'\n",
    "output_path = '../output/images/'\n",
    "result_path = '../output/result/'\n",
    "file_name = filename\n",
    "output_file = output_path + file_name\n",
    "result_file = result_path + file_name.split('.')[0] + '.txt'\n",
    "input_file = input_path + file_name"
   ]
  },
  {
   "cell_type": "code",
   "execution_count": null,
   "metadata": {},
   "outputs": [],
   "source": [
    "image = tf.keras.preprocessing.image.load_img(input_file)   #Load image\n",
    "plt.figure(figsize=(20,35.55))\n",
    "plt.axis(\"off\")\n",
    "plt.imshow(image)\n",
    "image = tf.keras.preprocessing.image.img_to_array(image)    #Converting image to numpy array"
   ]
  },
  {
   "cell_type": "code",
   "execution_count": null,
   "metadata": {},
   "outputs": [],
   "source": [
    "shape = image.shape\n",
    "height = shape[0]\n",
    "width = shape[1]\n",
    "offset_height = 0.05 * height\n",
    "offset_width = 0.03 * width\n",
    "vert_pieces = 2\n",
    "horiz_pieces = 2\n",
    "crop_height = int(math.ceil(height/vert_pieces + offset_height))\n",
    "crop_width = int(math.ceil(width/horiz_pieces + offset_width))"
   ]
  },
  {
   "cell_type": "code",
   "execution_count": null,
   "metadata": {},
   "outputs": [],
   "source": [
    "# Calculate crop coordinates\n",
    "boxes = []\n",
    "x1 = 0\n",
    "y1 = 0\n",
    "for i in range(vert_pieces):\n",
    "    y = y1 + crop_height/height\n",
    "    for j in range(horiz_pieces):\n",
    "        x = x1 + crop_width/width\n",
    "        if(y > 1):\n",
    "            y = 1\n",
    "        if(x > 1):\n",
    "            x = 1\n",
    "        boxes.append([y1,x1,y,x])\n",
    "        x1 = x - (2*offset_width)/width\n",
    "    x1 = 0\n",
    "    y1 = y - (2*offset_height)/height\n",
    "boxes = np.array(boxes)"
   ]
  },
  {
   "cell_type": "code",
   "execution_count": null,
   "metadata": {},
   "outputs": [],
   "source": [
    "# Prepocessing image for tensorflow function compatibility\n",
    "images = []\n",
    "images.append(image)\n",
    "images = np.array(images)\n",
    "num_boxes = boxes.shape[0]\n",
    "box_indices = np.zeros(num_boxes)"
   ]
  },
  {
   "cell_type": "code",
   "execution_count": null,
   "metadata": {},
   "outputs": [],
   "source": [
    "# Crop Images\n",
    "crop_tensor = tf.image.crop_and_resize(images, boxes, box_indices, crop_size=[crop_height,crop_width], method='bilinear', extrapolation_value=0, name=None)\n",
    "cropped_images = crop_tensor.eval(session=tf.Session())"
   ]
  },
  {
   "cell_type": "code",
   "execution_count": null,
   "metadata": {},
   "outputs": [],
   "source": [
    "if(config[\"drawboxes\"]):\n",
    "    draw_boxes = [boxes]\n",
    "    draw_boxes = np.array(draw_boxes)\n",
    "    draw_tensor = tf.image.draw_bounding_boxes(images, draw_boxes, name=None) \n",
    "    draw_img = draw_tensor.eval(session=tf.Session())\n",
    "    drawn_img = tf.keras.preprocessing.image.array_to_img(draw_img[0],data_format=None, scale=True, dtype=None)\n",
    "    name = output_path+file_name.split('.')[0]+\"_boxes.jpg\"\n",
    "    drawn_img.save(name)\n",
    "    "
   ]
  },
  {
   "cell_type": "code",
   "execution_count": null,
   "metadata": {},
   "outputs": [],
   "source": [
    "box_image = tf.keras.preprocessing.image.load_img(name)   #Load image\n",
    "plt.figure(figsize=(25,44.44))\n",
    "plt.axis(\"off\")\n",
    "plt.imshow(box_image)"
   ]
  },
  {
   "cell_type": "code",
   "execution_count": null,
   "metadata": {},
   "outputs": [],
   "source": [
    "if(config[\"saveslices\"]):\n",
    "    for i in range(num_boxes):\n",
    "        result = tf.keras.preprocessing.image.array_to_img(cropped_images[i],data_format=None, scale=True, dtype=None)\n",
    "        name = output_path+file_name.split('.')[0]+\"_crop\"+str(i)+\".jpg\"\n",
    "        result.save(name)\n"
   ]
  },
  {
   "cell_type": "code",
   "execution_count": null,
   "metadata": {},
   "outputs": [],
   "source": [
    "detector = ObjectDetection()\n",
    "detector.setModelTypeAsYOLOv3()\n",
    "detector.setModelPath(model_weight)\n",
    "detector.loadModel()temp_img, crop_det = detector.detectObjectsFromImage(input_image=cropped_images[i],input_type=\"array\", output_type=\"array\",minimum_percentage_probability=30)"
   ]
  },
  {
   "cell_type": "code",
   "execution_count": null,
   "metadata": {},
   "outputs": [],
   "source": [
    "tic = time.time()\n",
    "crop_detections = []\n",
    "for i in range(num_boxes):\n",
    "    temp_img, crop_det = detector.detectObjectsFromImage(input_image=cropped_images[i],input_type=\"array\", output_type=\"array\",minimum_percentage_probability=30)\n",
    "    crop_detections.append(crop_det)\n",
    "    input_crop = output_path+file_name.split('.')[0]+\"_crop\"+str(i)+\".jpg\"\n",
    "    name = output_path+file_name.split('.')[0]+\"_cropdet\"+str(i)+\".jpg\"\n",
    "    drawBoxes(input_crop,name,crop_det)\n",
    "\n",
    "tac = time.time()\n",
    "elapsed = tac-tic\n",
    "print(elapsed)"
   ]
  },
  {
   "cell_type": "code",
   "execution_count": null,
   "metadata": {},
   "outputs": [],
   "source": [
    "for i in range(num_boxes):\n",
    "#     plt.axis(\"off\")\n",
    "    fig = plt.figure(figsize=(50,88.88))\n",
    "    name = output_path+file_name.split('.')[0]+\"_cropdet\"+str(i)+\".jpg\"\n",
    "    img = tf.keras.preprocessing.image.load_img(name)   #Load image\n",
    "    a = fig.add_subplot(1, 4, i+1)\n",
    "    imgplot = a.imshow(img)\n",
    "    a.set_title('Detection in crop'+str(i+1))"
   ]
  },
  {
   "cell_type": "code",
   "execution_count": null,
   "metadata": {},
   "outputs": [],
   "source": [
    "# Aggregate Detections from slices\n",
    "detected_boxes = []\n",
    "detections = []\n",
    "scores = []\n",
    "for i in range(num_boxes):\n",
    "    size = len(crop_detections[i])\n",
    "    x = boxes[i][1]*width\n",
    "    y = boxes[i][0]*height\n",
    "    for j in range(size):\n",
    "        detected = crop_detections[i][j]\n",
    "        box = detected['box_points']\n",
    "        box = [box[0]+x, box[1]+y, box[2]+x, box[3]+y]\n",
    "        detected_boxes.append(box)\n",
    "        detected['box_points'] = box\n",
    "        scores.append(detected['percentage_probability'])\n",
    "        detections.append(detected)\n",
    "detected_boxes = np.array(detected_boxes)\n",
    "scores = np.array(scores)"
   ]
  },
  {
   "cell_type": "code",
   "execution_count": null,
   "metadata": {},
   "outputs": [],
   "source": [
    "#Non max Supression\n",
    "selected_indices = tf.image.non_max_suppression(tf.convert_to_tensor(detected_boxes, dtype=tf.float32), tf.convert_to_tensor(scores, dtype=tf.float32), len(detected_boxes), 0.3)\n",
    "selected_indices = selected_indices.eval(session=tf.Session())"
   ]
  },
  {
   "cell_type": "code",
   "execution_count": null,
   "metadata": {},
   "outputs": [],
   "source": [
    "final_detections = []\n",
    "for index in selected_indices:\n",
    "    final_detections.append(detections[index])"
   ]
  },
  {
   "cell_type": "code",
   "execution_count": null,
   "metadata": {},
   "outputs": [],
   "source": [
    "if(config[\"saveFinalDetections\"]):\n",
    "    name = output_path+file_name.split('.')[0]+\"_final_detections.jpg\"\n",
    "    drawBoxes(input_file,name,final_detections)\n",
    "    img = tf.keras.preprocessing.image.load_img(name)   #Load image\n",
    "    plt.figure(figsize=(20,35.55))\n",
    "    plt.title(\"Detection with slicing\",fontdict={'fontsize':25},loc='center')\n",
    "    plt.axis(\"off\")\n",
    "    plt.imshow(img)"
   ]
  },
  {
   "cell_type": "code",
   "execution_count": null,
   "metadata": {},
   "outputs": [],
   "source": [
    "tic = time.time()\n",
    "temp_img, img_det = detector.detectObjectsFromImage(input_image=images[0],input_type=\"array\", output_type=\"array\",minimum_percentage_probability=30)\n",
    "name = output_path+file_name.split('.')[0]+\"_nocrop_detections.jpg\"\n",
    "drawBoxes(input_file,name,img_det)\n",
    "img = tf.keras.preprocessing.image.load_img(name)   #Load image\n",
    "plt.figure(figsize=(20,35.55))\n",
    "plt.title(\"Detection without slicing\",fontdict={'fontsize':25},loc='center')\n",
    "plt.axis(\"off\")\n",
    "plt.imshow(img)\n",
    "tac =time.time()\n",
    "print(\"elapsed: \"+str(tac-tic))"
   ]
  },
  {
   "cell_type": "code",
   "execution_count": null,
   "metadata": {},
   "outputs": [],
   "source": [
    "print(\"Number of Detections with slicing: \"+str(len(final_detections)))\n",
    "print(\"Number of Detections without slicing: \"+str(len(img_det)))"
   ]
  },
  {
   "cell_type": "code",
   "execution_count": null,
   "metadata": {},
   "outputs": [],
   "source": []
  }
 ],
 "metadata": {
  "kernelspec": {
   "display_name": "Python 3",
   "language": "python",
   "name": "python3"
  },
  "language_info": {
   "codemirror_mode": {
    "name": "ipython",
    "version": 3
   },
   "file_extension": ".py",
   "mimetype": "text/x-python",
   "name": "python",
   "nbconvert_exporter": "python",
   "pygments_lexer": "ipython3",
   "version": "3.6.9"
  }
 },
 "nbformat": 4,
 "nbformat_minor": 2
}
